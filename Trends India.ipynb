{
 "cells": [
  {
   "cell_type": "code",
   "execution_count": 1,
   "metadata": {},
   "outputs": [],
   "source": [
    "import tweepy\n",
    "import os\n",
    "consumer_key = ''\n",
    "consumer_secret = ''\n",
    "access_token = ''\n",
    "access_token_secret = ''\n",
    "\n",
    "auth = tweepy.OAuthHandler(consumer_key, consumer_secret)\n",
    "auth.set_access_token(access_token, access_token_secret)\n",
    "api = tweepy.API(auth,wait_on_rate_limit=True)"
   ]
  },
  {
   "cell_type": "code",
   "execution_count": 2,
   "metadata": {},
   "outputs": [
    {
     "name": "stdout",
     "output_type": "stream",
     "text": [
      "[{'trends': [{'name': '#Budget2021', 'url': 'http://twitter.com/search?q=%23Budget2021', 'promoted_content': None, 'query': '%23Budget2021', 'tweet_volume': 55732}, {'name': '#NirmalaSitharaman', 'url': 'http://twitter.com/search?q=%23NirmalaSitharaman', 'promoted_content': None, 'query': '%23NirmalaSitharaman', 'tweet_volume': None}, {'name': '#mondaythoughts', 'url': 'http://twitter.com/search?q=%23mondaythoughts', 'promoted_content': None, 'query': '%23mondaythoughts', 'tweet_volume': 10493}, {'name': '#Myanmar', 'url': 'http://twitter.com/search?q=%23Myanmar', 'promoted_content': None, 'query': '%23Myanmar', 'tweet_volume': 71130}, {'name': '#MondayMotivation', 'url': 'http://twitter.com/search?q=%23MondayMotivation', 'promoted_content': None, 'query': '%23MondayMotivation', 'tweet_volume': 11761}, {'name': 'Immediate 302 in SSR Case', 'url': 'http://twitter.com/search?q=%22Immediate+302+in+SSR+Case%22', 'promoted_content': None, 'query': '%22Immediate+302+in+SSR+Case%22', 'tweet_volume': 39614}, {'name': 'Rs 35,000', 'url': 'http://twitter.com/search?q=%22Rs+35%2C000%22', 'promoted_content': None, 'query': '%22Rs+35%2C000%22', 'tweet_volume': None}, {'name': 'Rs 64,180', 'url': 'http://twitter.com/search?q=%22Rs+64%2C180%22', 'promoted_content': None, 'query': '%22Rs+64%2C180%22', 'tweet_volume': None}, {'name': 'Aung San Suu Kyi', 'url': 'http://twitter.com/search?q=%22Aung+San+Suu+Kyi%22', 'promoted_content': None, 'query': '%22Aung+San+Suu+Kyi%22', 'tweet_volume': 109959}, {'name': 'Mission Poshan 2.0', 'url': 'http://twitter.com/search?q=%22Mission+Poshan+2.0%22', 'promoted_content': None, 'query': '%22Mission+Poshan+2.0%22', 'tweet_volume': None}, {'name': 'वित्त मंत्री', 'url': 'http://twitter.com/search?q=%22%E0%A4%B5%E0%A4%BF%E0%A4%A4%E0%A5%8D%E0%A4%A4+%E0%A4%AE%E0%A4%82%E0%A4%A4%E0%A5%8D%E0%A4%B0%E0%A5%80%22', 'promoted_content': None, 'query': '%22%E0%A4%B5%E0%A4%BF%E0%A4%A4%E0%A5%8D%E0%A4%A4+%E0%A4%AE%E0%A4%82%E0%A4%A4%E0%A5%8D%E0%A4%B0%E0%A5%80%22', 'tweet_volume': None}, {'name': 'Rs 27.1', 'url': 'http://twitter.com/search?q=%22Rs+27.1%22', 'promoted_content': None, 'query': '%22Rs+27.1%22', 'tweet_volume': None}, {'name': '13% of GDP', 'url': 'http://twitter.com/search?q=%2213%25+of+GDP%22', 'promoted_content': None, 'query': '%2213%25+of+GDP%22', 'tweet_volume': None}, {'name': 'Bahi Khata', 'url': 'http://twitter.com/search?q=%22Bahi+Khata%22', 'promoted_content': None, 'query': '%22Bahi+Khata%22', 'tweet_volume': None}, {'name': 'Rohingyas', 'url': 'http://twitter.com/search?q=Rohingyas', 'promoted_content': None, 'query': 'Rohingyas', 'tweet_volume': None}, {'name': 'Rabindranath Tagore', 'url': 'http://twitter.com/search?q=%22Rabindranath+Tagore%22', 'promoted_content': None, 'query': '%22Rabindranath+Tagore%22', 'tweet_volume': None}, {'name': 'कल्पना चावला', 'url': 'http://twitter.com/search?q=%22%E0%A4%95%E0%A4%B2%E0%A5%8D%E0%A4%AA%E0%A4%A8%E0%A4%BE+%E0%A4%9A%E0%A4%BE%E0%A4%B5%E0%A4%B2%E0%A4%BE%22', 'promoted_content': None, 'query': '%22%E0%A4%95%E0%A4%B2%E0%A5%8D%E0%A4%AA%E0%A4%A8%E0%A4%BE+%E0%A4%9A%E0%A4%BE%E0%A4%B5%E0%A4%B2%E0%A4%BE%22', 'tweet_volume': None}, {'name': 'Ministry of Finance', 'url': 'http://twitter.com/search?q=%22Ministry+of+Finance%22', 'promoted_content': None, 'query': '%22Ministry+of+Finance%22', 'tweet_volume': None}, {'name': 'FM Sitharaman', 'url': 'http://twitter.com/search?q=%22FM+Sitharaman%22', 'promoted_content': None, 'query': '%22FM+Sitharaman%22', 'tweet_volume': None}, {'name': 'Made in India', 'url': 'http://twitter.com/search?q=%22Made+in+India%22', 'promoted_content': None, 'query': '%22Made+in+India%22', 'tweet_volume': 13222}, {'name': 'shah satnam ji maharaj', 'url': 'http://twitter.com/search?q=%22shah+satnam+ji+maharaj%22', 'promoted_content': None, 'query': '%22shah+satnam+ji+maharaj%22', 'tweet_volume': 10326}, {'name': 'Live Updates', 'url': 'http://twitter.com/search?q=%22Live+Updates%22', 'promoted_content': None, 'query': '%22Live+Updates%22', 'tweet_volume': 17195}, {'name': 'Tablet', 'url': 'http://twitter.com/search?q=Tablet', 'promoted_content': None, 'query': 'Tablet', 'tweet_volume': 13616}, {'name': 'Sensex', 'url': 'http://twitter.com/search?q=Sensex', 'promoted_content': None, 'query': 'Sensex', 'tweet_volume': None}, {'name': 'Burma', 'url': 'http://twitter.com/search?q=Burma', 'promoted_content': None, 'query': 'Burma', 'tweet_volume': 39359}, {'name': 'HAPPY BIRTHDAY KING', 'url': 'http://twitter.com/search?q=%22HAPPY+BIRTHDAY+KING%22', 'promoted_content': None, 'query': '%22HAPPY+BIRTHDAY+KING%22', 'tweet_volume': 27884}, {'name': 'वित्त मंत्रालय', 'url': 'http://twitter.com/search?q=%22%E0%A4%B5%E0%A4%BF%E0%A4%A4%E0%A5%8D%E0%A4%A4+%E0%A4%AE%E0%A4%82%E0%A4%A4%E0%A5%8D%E0%A4%B0%E0%A4%BE%E0%A4%B2%E0%A4%AF%22', 'promoted_content': None, 'query': '%22%E0%A4%B5%E0%A4%BF%E0%A4%A4%E0%A5%8D%E0%A4%A4+%E0%A4%AE%E0%A4%82%E0%A4%A4%E0%A5%8D%E0%A4%B0%E0%A4%BE%E0%A4%B2%E0%A4%AF%22', 'tweet_volume': None}, {'name': 'आंग सान', 'url': 'http://twitter.com/search?q=%22%E0%A4%86%E0%A4%82%E0%A4%97+%E0%A4%B8%E0%A4%BE%E0%A4%A8%22', 'promoted_content': None, 'query': '%22%E0%A4%86%E0%A4%82%E0%A4%97+%E0%A4%B8%E0%A4%BE%E0%A4%A8%22', 'tweet_volume': None}, {'name': '45th Raising Day', 'url': 'http://twitter.com/search?q=%2245th+Raising+Day%22', 'promoted_content': None, 'query': '%2245th+Raising+Day%22', 'tweet_volume': None}, {'name': 'Om Namah Shivay', 'url': 'http://twitter.com/search?q=%22Om+Namah+Shivay%22', 'promoted_content': None, 'query': '%22Om+Namah+Shivay%22', 'tweet_volume': None}, {'name': 'iPad', 'url': 'http://twitter.com/search?q=iPad', 'promoted_content': None, 'query': 'iPad', 'tweet_volume': 47837}, {'name': 'Halwa', 'url': 'http://twitter.com/search?q=Halwa', 'promoted_content': None, 'query': 'Halwa', 'tweet_volume': None}, {'name': 'Har Har Mahadev', 'url': 'http://twitter.com/search?q=%22Har+Har+Mahadev%22', 'promoted_content': None, 'query': '%22Har+Har+Mahadev%22', 'tweet_volume': None}, {'name': 'Economist', 'url': 'http://twitter.com/search?q=Economist', 'promoted_content': None, 'query': 'Economist', 'tweet_volume': 24422}, {'name': 'Economy', 'url': 'http://twitter.com/search?q=Economy', 'promoted_content': None, 'query': 'Economy', 'tweet_volume': 139122}, {'name': '#KalpanaChawla', 'url': 'http://twitter.com/search?q=%23KalpanaChawla', 'promoted_content': None, 'query': '%23KalpanaChawla', 'tweet_volume': None}, {'name': '#Vamika', 'url': 'http://twitter.com/search?q=%23Vamika', 'promoted_content': None, 'query': '%23Vamika', 'tweet_volume': None}, {'name': '#IndianCoastGuardDay', 'url': 'http://twitter.com/search?q=%23IndianCoastGuardDay', 'promoted_content': None, 'query': '%23IndianCoastGuardDay', 'tweet_volume': None}, {'name': '#MondayMorning', 'url': 'http://twitter.com/search?q=%23MondayMorning', 'promoted_content': None, 'query': '%23MondayMorning', 'tweet_volume': None}, {'name': '#RoyalRumble', 'url': 'http://twitter.com/search?q=%23RoyalRumble', 'promoted_content': None, 'query': '%23RoyalRumble', 'tweet_volume': 633720}, {'name': '#HappyMahaRehmokaramMonth', 'url': 'http://twitter.com/search?q=%23HappyMahaRehmokaramMonth', 'promoted_content': None, 'query': '%23HappyMahaRehmokaramMonth', 'tweet_volume': 15905}, {'name': '#AnushkaSharma', 'url': 'http://twitter.com/search?q=%23AnushkaSharma', 'promoted_content': None, 'query': '%23AnushkaSharma', 'tweet_volume': None}, {'name': '#Happybirthdayharry', 'url': 'http://twitter.com/search?q=%23Happybirthdayharry', 'promoted_content': None, 'query': '%23Happybirthdayharry', 'tweet_volume': 161888}, {'name': '#SuppressBillsNotJournalists', 'url': 'http://twitter.com/search?q=%23SuppressBillsNotJournalists', 'promoted_content': None, 'query': '%23SuppressBillsNotJournalists', 'tweet_volume': 66779}, {'name': '#Virushka', 'url': 'http://twitter.com/search?q=%23Virushka', 'promoted_content': None, 'query': '%23Virushka', 'tweet_volume': None}, {'name': '#बजट_नहीं_बिल_वापसी', 'url': 'http://twitter.com/search?q=%23%E0%A4%AC%E0%A4%9C%E0%A4%9F_%E0%A4%A8%E0%A4%B9%E0%A5%80%E0%A4%82_%E0%A4%AC%E0%A4%BF%E0%A4%B2_%E0%A4%B5%E0%A4%BE%E0%A4%AA%E0%A4%B8%E0%A5%80', 'promoted_content': None, 'query': '%23%E0%A4%AC%E0%A4%9C%E0%A4%9F_%E0%A4%A8%E0%A4%B9%E0%A5%80%E0%A4%82_%E0%A4%AC%E0%A4%BF%E0%A4%B2_%E0%A4%B5%E0%A4%BE%E0%A4%AA%E0%A4%B8%E0%A5%80', 'tweet_volume': 61501}, {'name': '#KapilSharma', 'url': 'http://twitter.com/search?q=%23KapilSharma', 'promoted_content': None, 'query': '%23KapilSharma', 'tweet_volume': None}, {'name': '#MondayVibes', 'url': 'http://twitter.com/search?q=%23MondayVibes', 'promoted_content': None, 'query': '%23MondayVibes', 'tweet_volume': None}, {'name': '#Edge', 'url': 'http://twitter.com/search?q=%23Edge', 'promoted_content': None, 'query': '%23Edge', 'tweet_volume': None}, {'name': '#HBDBrahmanandamGaru', 'url': 'http://twitter.com/search?q=%23HBDBrahmanandamGaru', 'promoted_content': None, 'query': '%23HBDBrahmanandamGaru', 'tweet_volume': None}], 'as_of': '2021-02-01T05:57:23Z', 'created_at': '2021-01-30T16:15:24Z', 'locations': [{'name': 'India', 'woeid': 23424848}]}]\n"
     ]
    },
    {
     "name": "stdout",
     "output_type": "stream",
     "text": [
      "1 )  #Budget2021  :  55214\n",
      "2 )  #NirmalaSitharaman  :  None\n",
      "3 )  #mondaythoughts  :  10493\n",
      "4 )  #Myanmar  :  71123\n",
      "5 )  #MondayMotivation  :  11761\n",
      "6 )  Immediate 302 in SSR Case  :  39614\n",
      "7 )  Rs 64,180  :  None\n",
      "8 )  Rs 35,000  :  None\n",
      "9 )  Aung San Suu Kyi  :  109959\n",
      "10 )  Mission Poshan 2.0  :  None\n",
      "11 )  वित्त मंत्री  :  None\n",
      "12 )  Rs 27.1  :  None\n",
      "13 )  13% of GDP  :  None\n",
      "14 )  Bahi Khata  :  None\n",
      "15 )  Rohingyas  :  None\n",
      "16 )  कल्पना चावला  :  None\n",
      "17 )  Rabindranath Tagore  :  None\n",
      "18 )  Ministry of Finance  :  None\n",
      "19 )  Made in India  :  13222\n",
      "20 )  FM Sitharaman  :  None\n",
      "21 )  shah satnam ji maharaj  :  10326\n",
      "22 )  Live Updates  :  17195\n",
      "23 )  Tablet  :  13616\n",
      "24 )  Sensex  :  None\n",
      "25 )  Burma  :  39359\n",
      "26 )  HAPPY BIRTHDAY KING  :  27884\n",
      "27 )  वित्त मंत्रालय  :  None\n",
      "28 )  आंग सान  :  None\n",
      "29 )  45th Raising Day  :  None\n",
      "30 )  Om Namah Shivay  :  None\n",
      "31 )  iPad  :  47816\n",
      "32 )  Halwa  :  None\n",
      "33 )  Har Har Mahadev  :  None\n",
      "34 )  Economist  :  24422\n",
      "35 )  Economy  :  139006\n",
      "36 )  Digital India  :  None\n",
      "37 )  Clubhouse  :  177766\n",
      "38 )  #KalpanaChawla  :  None\n",
      "39 )  #IndianCoastGuardDay  :  None\n",
      "40 )  #Vamika  :  None\n",
      "41 )  #MondayMorning  :  None\n",
      "42 )  #RoyalRumble  :  633473\n",
      "43 )  #HappyMahaRehmokaramMonth  :  15905\n",
      "44 )  #Happybirthdayharry  :  161888\n",
      "45 )  #AnushkaSharma  :  None\n",
      "46 )  #SuppressBillsNotJournalists  :  66779\n",
      "47 )  #Virushka  :  None\n",
      "48 )  #बजट_नहीं_बिल_वापसी  :  61501\n",
      "49 )  #KapilSharma  :  None\n",
      "50 )  #MondayVibes  :  None\n"
     ]
    }
   ],
   "source": [
    "text_file = open('Trends_india.txt', 'a', encoding='utf-8')\n",
    "text_file.write('a) latest trending topic for India. (#tag and no of tweets for the particular #tag)\\n')\n",
    "text_file.close()\n",
    "id = 23424848\n",
    "print(api.trends_place(id))\n",
    "Itrends = api.trends_place(id)\n",
    "i = 1\n",
    "for value in Itrends: \n",
    "    for trend in value['trends']: \n",
    "        print(str(i),') ',trend['name'],' : ', trend['tweet_volume'])\n",
    "        text_file = open('Trends_india.txt', 'a', encoding=\"utf-8\")\n",
    "        text_file.write('%s) %s : %s \\n'% (i, trend['name'], trend['tweet_volume']))\n",
    "        text_file.close()\n",
    "        i = i+1\n",
    "        "
   ]
  },
  {
   "cell_type": "code",
   "execution_count": null,
   "metadata": {},
   "outputs": [],
   "source": []
  }
 ],
 "metadata": {
  "kernelspec": {
   "display_name": "Python 3",
   "language": "python",
   "name": "python3"
  },
  "language_info": {
   "codemirror_mode": {
    "name": "ipython",
    "version": 3
   },
   "file_extension": ".py",
   "mimetype": "text/x-python",
   "name": "python",
   "nbconvert_exporter": "python",
   "pygments_lexer": "ipython3",
   "version": "3.7.6"
  }
 },
 "nbformat": 4,
 "nbformat_minor": 4
}
